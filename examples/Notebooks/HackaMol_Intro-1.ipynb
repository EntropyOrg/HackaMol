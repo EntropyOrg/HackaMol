{
 "metadata": {
  "language": "Perl",
  "name": "",
  "signature": "sha256:0ae8c8a19de2d2594664e3d67dab33d432b113133f55e02b227eba7cf858da0e"
 },
 "nbformat": 3,
 "nbformat_minor": 0,
 "worksheets": [
  {
   "cells": [
    {
     "cell_type": "markdown",
     "metadata": {},
     "source": [
      "##Introductory IPerl Notebook in Support of: \n",
      "###HackaMol: an object-oriented Modern Perl library for molecular hacking on multiple scales\n",
      "Authors: Demian Riccardi, Jerry M. Parks, Alex Johs, and Jeremy C. Smith\n",
      "\n",
      "####Description\n",
      "HackaMol is an object-oriented toolkit written in Modern Perl using the Moose object system. HackaMol organizes atoms within molecules and seeks to provide chemically intuitive attributes and methods. This notebook will explore some of the features of the library core in support of the article in review at the Journal of Chemical Information and Modeling. This notebook is available on GitHub and will evolve with the library.\n",
      "\n",
      "#####Basic use\n",
      "The HackaMol library can be installed from the Central Perl Archive Network. The library is loaded into a script as follows:"
     ]
    },
    {
     "cell_type": "code",
     "collapsed": true,
     "input": [
      "use Modern::Perl; \n",
      "use HackaMol;"
     ],
     "language": "python",
     "metadata": {},
     "outputs": [],
     "prompt_number": 1
    },
    {
     "cell_type": "markdown",
     "metadata": {},
     "source": [
      "Where the first line loads some modern features of Perl, and the second line loads the HackaMol library.\n",
      "\n",
      "Let's create a mercury atom and print the contents of the atom object:"
     ]
    },
    {
     "cell_type": "code",
     "collapsed": false,
     "input": [
      "my $atom = HackaMol::Atom->new(Z=>80);\n",
      "$atom->dump;"
     ],
     "language": "python",
     "metadata": {},
     "outputs": [
      {
       "metadata": {},
       "output_type": "pyout",
       "prompt_number": 2,
       "text": [
        "$VAR1 = bless( {\n",
        "                 't' => 0,\n",
        "                 'bond_count' => 0,\n",
        "                 'Z' => 80\n",
        "               }, 'HackaMol::Atom' );\n",
        "\n"
       ]
      }
     ],
     "prompt_number": 2
    },
    {
     "cell_type": "markdown",
     "metadata": {},
     "source": [
      "The contents a perl datastructure (\"blessed\" in the HackaMol::Atom class) are displayed using the dump method provided by Moose. At this stage, there are other attributes, which have not been explicitly defined, that the Mercury atom has.  For example, let's print the symbol and then dump the structure again: "
     ]
    },
    {
     "cell_type": "code",
     "collapsed": false,
     "input": [
      "$atom->symbol;\n",
      "$atom->dump;"
     ],
     "language": "python",
     "metadata": {},
     "outputs": [
      {
       "metadata": {},
       "output_type": "pyout",
       "prompt_number": 4,
       "text": [
        "$VAR1 = bless( {\n",
        "                 'Z' => 80,\n",
        "                 't' => 0,\n",
        "                 'symbol' => 'Hg',\n",
        "                 'bond_count' => 0\n",
        "               }, 'HackaMol::Atom' );\n",
        "\n"
       ]
      }
     ],
     "prompt_number": 4
    },
    {
     "cell_type": "markdown",
     "metadata": {},
     "source": [
      "You'll notice that the difference between Out[2] and Out[3] is that the mercury atom now has both the `Z` and `symbol` attributes set. This is an example of Lazy attributes, a feature of Moose that allows class attributes to be set within the object as they are accessed. There are plenty of other attributes:"
     ]
    },
    {
     "cell_type": "code",
     "collapsed": false,
     "input": [
      "say $atom->$_ foreach qw(Z symbol mass vdw_radius covalent_radius);"
     ],
     "language": "python",
     "metadata": {},
     "outputs": [
      {
       "metadata": {},
       "output_type": "pyout",
       "prompt_number": 8,
       "text": [
        "79\n",
        "Hg\n",
        "200.592\n",
        "1.66\n",
        "1.24\n",
        "\n"
       ]
      }
     ],
     "prompt_number": 8
    },
    {
     "cell_type": "markdown",
     "metadata": {},
     "source": [
      "####Alchemy: let's change mercury into gold"
     ]
    },
    {
     "cell_type": "code",
     "collapsed": false,
     "input": [],
     "language": "python",
     "metadata": {},
     "outputs": []
    }
   ],
   "metadata": {}
  }
 ]
}