{
 "metadata": {
  "language": "Perl",
  "name": "",
  "signature": "sha256:75b45847cab0292732a7bda3d2b26265861d20884b264c6d6a4ba95cd403e00b"
 },
 "nbformat": 3,
 "nbformat_minor": 0,
 "worksheets": [
  {
   "cells": [
    {
     "cell_type": "markdown",
     "metadata": {},
     "source": [
      "##IPerl Notebook for the HackaMol::Atom class in Support of: \n",
      "###HackaMol: an object-oriented Modern Perl library for molecular hacking on multiple scales\n",
      "Authors: Demian Riccardi, Jerry M. Parks, Alex Johs, and Jeremy C. Smith\n",
      "\n",
      "\n",
      "\n",
      "####Description\n",
      "HackaMol is an object-oriented toolkit written in Modern Perl using the Moose object system. HackaMol organizes atoms within molecules and seeks to provide chemically intuitive attributes and methods. This notebook will explore some of the features of the library core in support of the article in review at the Journal of Chemical Information and Modeling. This notebook is available on GitHub and will evolve with the library.\n",
      "\n",
      "####Basic use: HackaMol::Atom attributes\n",
      "The HackaMol library can be installed from the Central Perl Archive Network. The library is loaded into a script as follows:"
     ]
    },
    {
     "cell_type": "code",
     "collapsed": true,
     "input": [
      "use Modern::Perl; \n",
      "use HackaMol;"
     ],
     "language": "python",
     "metadata": {},
     "outputs": [],
     "prompt_number": 1
    },
    {
     "cell_type": "markdown",
     "metadata": {},
     "source": [
      "The first line loads the Modern::Perl module that loads some modern features, and the second line loads the HackaMol library. Loading the HackaMol module loads the several classes, including the HackaMol::Atom class that will be used here.\n",
      "\n",
      "Let's dive in and create a mercury atom and print the contents of the atom object:"
     ]
    },
    {
     "cell_type": "code",
     "collapsed": false,
     "input": [
      "my $atom = HackaMol::Atom->new(Z=>80);\n",
      "$atom->dump;"
     ],
     "language": "python",
     "metadata": {},
     "outputs": [
      {
       "metadata": {},
       "output_type": "pyout",
       "prompt_number": 2,
       "text": [
        "$VAR1 = bless( {\n",
        "                 'Z' => 80,\n",
        "                 't' => 0,\n",
        "                 'bond_count' => 0\n",
        "               }, 'HackaMol::Atom' );\n",
        "\n"
       ]
      }
     ],
     "prompt_number": 2
    },
    {
     "cell_type": "markdown",
     "metadata": {},
     "source": [
      "The contents a perl datastructure (\"blessed\" in the HackaMol::Atom class) are displayed using the dump method provided by Moose. At this stage, the mercury atom contains other attributes (such as symbol, mass, covalent radius) that have not been explicitly defined.  For example, let's print the symbol and then dump the structure again: "
     ]
    },
    {
     "cell_type": "code",
     "collapsed": false,
     "input": [
      "say \"Symbol: \",$atom->symbol;\n",
      "$atom->dump;"
     ],
     "language": "python",
     "metadata": {},
     "outputs": [
      {
       "metadata": {},
       "output_type": "pyout",
       "prompt_number": 4,
       "text": [
        "Symbol: Hg\n",
        "$VAR1 = bless( {\n",
        "                 'Z' => 80,\n",
        "                 't' => 0,\n",
        "                 'symbol' => 'Hg',\n",
        "                 'bond_count' => 0\n",
        "               }, 'HackaMol::Atom' );\n",
        "\n"
       ]
      }
     ],
     "prompt_number": 4
    },
    {
     "cell_type": "markdown",
     "metadata": {},
     "source": [
      "You'll notice that the difference between Out[2] and Out[3] is that the mercury atom now has both the `Z` and `symbol` attributes set. This is an example of Lazy attributes, an efficient feature of Moose that allows class attributes to be set within the object as they are accessed. Let's print out a few other attributes:"
     ]
    },
    {
     "cell_type": "code",
     "collapsed": false,
     "input": [
      "printf \"Attribute %15s : %7s\\n\", $_, $atom->$_ foreach qw(Z symbol mass vdw_radius covalent_radius);"
     ],
     "language": "python",
     "metadata": {},
     "outputs": [
      {
       "metadata": {},
       "output_type": "pyout",
       "prompt_number": 9,
       "text": [
        "Attribute               Z :      80\n",
        "Attribute          symbol :      Hg\n",
        "Attribute            mass : 200.592\n",
        "Attribute      vdw_radius :    1.55\n",
        "Attribute covalent_radius :    1.33\n",
        "\n"
       ]
      }
     ],
     "prompt_number": 9
    },
    {
     "cell_type": "code",
     "collapsed": false,
     "input": [
      "$atom->dump;"
     ],
     "language": "python",
     "metadata": {},
     "outputs": [
      {
       "metadata": {},
       "output_type": "pyout",
       "prompt_number": 6,
       "text": [
        "$VAR1 = bless( {\n",
        "                 'bond_count' => 0,\n",
        "                 'symbol' => 'Hg',\n",
        "                 'mass' => '200.592',\n",
        "                 'Z' => 80,\n",
        "                 't' => 0,\n",
        "                 'vdw_radius' => '1.55',\n",
        "                 'covalent_radius' => '1.33'\n",
        "               }, 'HackaMol::Atom' );\n",
        "\n"
       ]
      }
     ],
     "prompt_number": 6
    },
    {
     "cell_type": "markdown",
     "metadata": {},
     "source": [
      "###Moose Introspection\n",
      "Before moving on to methods, let's use Moose to introspect the HackaMol::Atom class for attributes and methods."
     ]
    },
    {
     "cell_type": "code",
     "collapsed": false,
     "input": [
      "my $meta = HackaMol::Atom->meta;\n",
      "\n",
      "say 'ATTRIBUTES';\n",
      "say \" \",$_->name foreach $meta->get_all_attributes;\n",
      "say ' ';\n",
      "say 'METHODS';\n",
      "say \" \",$_->name foreach $meta->get_all_methods;\n"
     ],
     "language": "python",
     "metadata": {},
     "outputs": [
      {
       "metadata": {},
       "output_type": "pyout",
       "prompt_number": 20,
       "text": [
        "ATTRIBUTES\n",
        " is_dirty\n",
        " ecp\n",
        " basis_geom\n",
        " resid\n",
        " occ\n",
        " record_name\n",
        " resname\n",
        " covalent_radius\n",
        " chain\n",
        " charges\n",
        " iatom\n",
        " origin\n",
        " pdbid\n",
        " units\n",
        " bond_count\n",
        " altloc\n",
        " mass\n",
        " Z\n",
        " serial\n",
        " dummy\n",
        " vdw_radius\n",
        " is_fixed\n",
        " name\n",
        " coords\n",
        " symbol\n",
        " segid\n",
        " xyzfree\n",
        " basis\n",
        " forces\n",
        " icode\n",
        " bfact\n",
        " t\n",
        " \n",
        "METHODS\n",
        " iatom\n",
        " charges\n",
        " chain\n",
        " clear_coords\n",
        " clear_covalent_radius\n",
        " push_charges\n",
        " is_dummy\n",
        " _build_covalent_radius\n",
        " covalent_radius\n",
        " clear_name\n",
        " record_name\n",
        " copy_ref_from_t1_through_t2\n",
        " mass\n",
        " clear_mass\n",
        " Z\n",
        " inter_dforces\n",
        " bond_count\n",
        " set_charges\n",
        " DOES\n",
        " has_vdw_radius\n",
        " change_symbol\n",
        " clear_Z\n",
        " ecp\n",
        " basis_geom\n",
        " is_dirty\n",
        " mean_forces\n",
        " push_coords\n",
        " BUILD\n",
        " has_covalent_radius\n",
        " does\n",
        " get_charges\n",
        " force\n",
        " BUILDARGS\n",
        " occ\n",
        " BUILDALL\n",
        " resid\n",
        " clear_forces\n",
        " get_forces\n",
        " angle_rad\n",
        " msd_coords\n",
        " new\n",
        " msd_forces\n",
        " dump\n",
        " coords\n",
        " is_fixed\n",
        " _fix_symbol\n",
        " push_forces\n",
        " vdw_radius\n",
        " inter_dcoords\n",
        " meta\n",
        " all_forces\n",
        " intra_dforces\n",
        " icode\n",
        " all_charges\n",
        " mean_coords\n",
        " basis\n",
        " forces\n",
        " xyzfree\n",
        " _Z_to_covalent_radius\n",
        " isa\n",
        " angle_deg\n",
        " clone_xyz\n",
        " serial\n",
        " _symbol_to_mass\n",
        " VERSION\n",
        " dihedral_rad\n",
        " intra_dcoords\n",
        " DESTROY\n",
        " intra_dcharges\n",
        " reset_bond_count\n",
        " xyz\n",
        " _build_mass\n",
        " delete_coords\n",
        " has_ecp\n",
        " resname\n",
        " _Z_to_symbol\n",
        " set_coords\n",
        " mean_charges\n",
        " _Z_to_vdw_radius\n",
        " altloc\n",
        " units\n",
        " clear_charges\n",
        " origin\n",
        " _build_Z\n",
        " pdbid\n",
        " delete_charges\n",
        " has_basis\n",
        " can\n",
        " _build_symbol\n",
        " change_Z\n",
        " count_coords\n",
        " count_forces\n",
        " has_symbol\n",
        " clear_basis\n",
        " DEMOLISHALL\n",
        " delete_forces\n",
        " clear_symbol\n",
        " dec_bond_count\n",
        " clone_force\n",
        " clear_ecp\n",
        " symbol\n",
        " segid\n",
        " _clean_atom\n",
        " _freedom\n",
        " _symbol_to_Z\n",
        " name\n",
        " get_coords\n",
        " has_Z\n",
        " charge\n",
        " _build_vdw_radius\n",
        " bfact\n",
        " t\n",
        " msd_charges\n",
        " inter_dcharges\n",
        " all_coords\n",
        " count_charges\n",
        " clear_xyzfree\n",
        " clear_vdw_radius\n",
        " distance\n",
        " dihedral_deg\n",
        " inc_bond_count\n",
        " dummy\n",
        " has_name\n",
        " set_forces\n",
        " aa321\n",
        " clear_dummy\n",
        "\n"
       ]
      }
     ],
     "prompt_number": 20
    },
    {
     "cell_type": "markdown",
     "metadata": {},
     "source": [
      "Moose introspection is very powerful. It uses the Meta Object Protocol the Moose is built with to expose all methods and attributes within the class, even the ones that are intended to be private.  \n",
      "\n",
      "####Basic use HackaMol::Atom Methods\n",
      "Alchemy: let's change mercury into gold"
     ]
    },
    {
     "cell_type": "code",
     "collapsed": false,
     "input": [],
     "language": "python",
     "metadata": {},
     "outputs": []
    },
    {
     "cell_type": "code",
     "collapsed": false,
     "input": [],
     "language": "python",
     "metadata": {},
     "outputs": []
    }
   ],
   "metadata": {}
  }
 ]
}
