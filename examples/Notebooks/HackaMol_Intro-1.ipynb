{
 "metadata": {
  "language": "Perl",
  "name": "",
  "signature": "sha256:576791c5c6b4127f2c916f769ec14445fbf08b6325187f1190338273fc163e36"
 },
 "nbformat": 3,
 "nbformat_minor": 0,
 "worksheets": [
  {
   "cells": [
    {
     "cell_type": "markdown",
     "metadata": {},
     "source": [
      "##IPerl Notebook for the HackaMol::Atom class in Support of: \n",
      "###HackaMol: an object-oriented Modern Perl library for molecular hacking on multiple scales\n",
      "Authors: Demian Riccardi, Jerry M. Parks, Alex Johs, and Jeremy C. Smith\n",
      "\n",
      "\n",
      "\n",
      "####Description\n",
      "HackaMol is an object-oriented toolkit written in Modern Perl using the Moose object system. HackaMol organizes atoms within molecules and seeks to provide chemically intuitive attributes and methods. This notebook will explore some of the features of the library core in support of the article in review at the Journal of Chemical Information and Modeling. This notebook is available on GitHub and will evolve with the library.\n",
      "\n",
      "####Basic use: HackaMol::Atom attributes\n",
      "The HackaMol library can be installed from the Central Perl Archive Network. The library is loaded into a script as follows:"
     ]
    },
    {
     "cell_type": "code",
     "collapsed": true,
     "input": [
      "use Modern::Perl; \n",
      "use HackaMol;"
     ],
     "language": "python",
     "metadata": {},
     "outputs": [
      {
       "metadata": {},
       "output_type": "pyout",
       "prompt_number": 1,
       "text": [
        "\u001b[32m\u001b[0m"
       ]
      }
     ],
     "prompt_number": 1
    },
    {
     "cell_type": "markdown",
     "metadata": {},
     "source": [
      "The first line loads the Modern::Perl module that loads some modern features, and the second line loads the HackaMol library. Loading the HackaMol module loads the several classes, including the HackaMol::Atom class that will be used here.\n",
      "\n",
      "Let's dive in and create a mercury atom and print the contents of the atom object:"
     ]
    },
    {
     "cell_type": "code",
     "collapsed": false,
     "input": [
      "my $atom = HackaMol::Atom->new(Z=>80);\n",
      "$atom->dump;"
     ],
     "language": "python",
     "metadata": {},
     "outputs": [
      {
       "metadata": {},
       "output_type": "pyout",
       "prompt_number": 2,
       "text": [
        "\u001b[32m$VAR1 = bless( {\n",
        "                 't' => 0,\n",
        "                 'Z' => 80,\n",
        "                 'bond_count' => 0\n",
        "               }, 'HackaMol::Atom' );\n",
        "\n",
        "\u001b[0m"
       ]
      }
     ],
     "prompt_number": 2
    },
    {
     "cell_type": "markdown",
     "metadata": {},
     "source": [
      "The contents a perl datastructure (\"blessed\" in the HackaMol::Atom class) are displayed using the dump method provided by Moose. At this stage, the mercury atom contains other attributes (such as symbol, mass, covalent radius) that have not been explicitly defined.  For example, let's print the symbol and then dump the structure again: "
     ]
    },
    {
     "cell_type": "code",
     "collapsed": false,
     "input": [
      "say \"Symbol: \",$atom->symbol;\n",
      "$atom->dump;"
     ],
     "language": "python",
     "metadata": {},
     "outputs": [
      {
       "metadata": {},
       "output_type": "pyout",
       "prompt_number": 3,
       "text": [
        "Symbol: Hg\n",
        "$VAR1 = bless( {\n",
        "                 't' => 0,\n",
        "                 'bond_count' => 0,\n",
        "                 'Z' => 80,\n",
        "                 'symbol' => 'Hg'\n",
        "               }, 'HackaMol::Atom' );\n",
        "\n"
       ]
      }
     ],
     "prompt_number": 3
    },
    {
     "cell_type": "markdown",
     "metadata": {},
     "source": [
      "You'll notice that the difference between Out[2] and Out[3] is that the mercury atom now has both the `Z` and `symbol` attributes set. This is an example of Lazy attributes, an efficient feature of Moose that allows class attributes to be set within the object as they are accessed. Let's print out a few other attributes:"
     ]
    },
    {
     "cell_type": "code",
     "collapsed": false,
     "input": [
      "printf \"Attribute %15s : %7s\\n\", $_, $atom->$_ foreach qw(Z symbol mass vdw_radius covalent_radius);"
     ],
     "language": "python",
     "metadata": {},
     "outputs": [
      {
       "metadata": {},
       "output_type": "pyout",
       "prompt_number": 4,
       "text": [
        "Attribute               Z :      80\n",
        "Attribute          symbol :      Hg\n",
        "Attribute            mass : 200.592\n",
        "Attribute      vdw_radius :    1.55\n",
        "Attribute covalent_radius :    1.33\n",
        "\n"
       ]
      }
     ],
     "prompt_number": 4
    },
    {
     "cell_type": "code",
     "collapsed": false,
     "input": [
      "$atom->dump;"
     ],
     "language": "python",
     "metadata": {},
     "outputs": [
      {
       "metadata": {},
       "output_type": "pyout",
       "prompt_number": 5,
       "text": [
        "$VAR1 = bless( {\n",
        "                 'mass' => '200.592',\n",
        "                 'vdw_radius' => '1.55',\n",
        "                 'Z' => 80,\n",
        "                 'symbol' => 'Hg',\n",
        "                 'covalent_radius' => '1.33',\n",
        "                 't' => 0,\n",
        "                 'bond_count' => 0\n",
        "               }, 'HackaMol::Atom' );\n",
        "\n"
       ]
      }
     ],
     "prompt_number": 5
    },
    {
     "cell_type": "markdown",
     "metadata": {},
     "source": [
      "###Moose Introspection\n",
      "Before moving on to methods, let's use Moose to introspect the HackaMol::Atom class for attributes and methods."
     ]
    },
    {
     "cell_type": "code",
     "collapsed": false,
     "input": [
      "my $meta = HackaMol::Atom->meta;\n",
      "\n",
      "say 'ATTRIBUTES';\n",
      "say \" \",$_->name foreach $meta->get_all_attributes;\n",
      "say ' ';\n",
      "say 'METHODS';\n",
      "say \" \",$_->name foreach $meta->get_all_methods;\n"
     ],
     "language": "python",
     "metadata": {},
     "outputs": [
      {
       "metadata": {},
       "output_type": "pyout",
       "prompt_number": 9,
       "text": [
        "ATTRIBUTES\n",
        " Z\n",
        " name\n",
        " ecp\n",
        " covalent_radius\n",
        " record_name\n",
        " chain\n",
        " resname\n",
        " symbol\n",
        " basis\n",
        " bfact\n",
        " is_fixed\n",
        " dummy\n",
        " coords\n",
        " forces\n",
        " charges\n",
        " origin\n",
        " is_dirty\n",
        " occ\n",
        " serial\n",
        " basis_geom\n",
        " segid\n",
        " iatom\n",
        " vdw_radius\n",
        " xyzfree\n",
        " resid\n",
        " mass\n",
        " icode\n",
        " bond_count\n",
        " altloc\n",
        " units\n",
        " pdbid\n",
        " t\n",
        " \n",
        "METHODS\n",
        " clone_xyz\n",
        " covalent_radius\n",
        " Z\n",
        " push_coords\n",
        " angle_rad\n",
        " can\n",
        " clear_basis\n",
        " force\n",
        " dihedral_rad\n",
        " angle_deg\n",
        " set_forces\n",
        " intra_dcharges\n",
        " dec_bond_count\n",
        " all_coords\n",
        " has_covalent_radius\n",
        " _Z_to_vdw_radius\n",
        " get_charges\n",
        " basis\n",
        " symbol\n",
        " clear_covalent_radius\n",
        " change_symbol\n",
        " _freedom\n",
        " change_Z\n",
        " dihedral_deg\n",
        " forces\n",
        " get_forces\n",
        " has_basis\n",
        " BUILDALL\n",
        " clear_xyzfree\n",
        " set_charges\n",
        " xyz\n",
        " _symbol_to_Z\n",
        " count_charges\n",
        " _build_vdw_radius\n",
        " charge\n",
        " count_forces\n",
        " origin\n",
        " _build_covalent_radius\n",
        " DEMOLISHALL\n",
        " distance\n",
        " resid\n",
        " all_charges\n",
        " _symbol_to_mass\n",
        " intra_dforces\n",
        " is_dummy\n",
        " delete_charges\n",
        " vdw_radius\n",
        " iatom\n",
        " copy_ref_from_t1_through_t2\n",
        " clear_coords\n",
        " icode\n",
        " _Z_to_symbol\n",
        " isa\n",
        " _fix_symbol\n",
        " set_coords\n",
        " clear_dummy\n",
        " pdbid\n",
        " mean_coords\n",
        " msd_charges\n",
        " altloc\n",
        " _build_symbol\n",
        " record_name\n",
        " name\n",
        " ecp\n",
        " inc_bond_count\n",
        " BUILD\n",
        " meta\n",
        " _build_mass\n",
        " all_forces\n",
        " msd_forces\n",
        " clear_Z\n",
        " dump\n",
        " clear_vdw_radius\n",
        " has_vdw_radius\n",
        " intra_dcoords\n",
        " resname\n",
        " clear_name\n",
        " chain\n",
        " DOES\n",
        " charges\n",
        " dummy\n",
        " coords\n",
        " msd_coords\n",
        " has_ecp\n",
        " is_fixed\n",
        " bfact\n",
        " has_Z\n",
        " mean_forces\n",
        " reset_bond_count\n",
        " inter_dcharges\n",
        " basis_geom\n",
        " push_forces\n",
        " serial\n",
        " occ\n",
        " clear_mass\n",
        " delete_forces\n",
        " VERSION\n",
        " count_coords\n",
        " clear_forces\n",
        " is_dirty\n",
        " clone_force\n",
        " clear_ecp\n",
        " get_coords\n",
        " xyzfree\n",
        " clear_charges\n",
        " delete_coords\n",
        " has_name\n",
        " clear_symbol\n",
        " segid\n",
        " bond_count\n",
        " _build_Z\n",
        " inter_dforces\n",
        " mean_charges\n",
        " new\n",
        " has_symbol\n",
        " _clean_atom\n",
        " mass\n",
        " BUILDARGS\n",
        " _Z_to_covalent_radius\n",
        " t\n",
        " push_charges\n",
        " units\n",
        " inter_dcoords\n",
        " does\n",
        " DESTROY\n",
        " aa321\n",
        "\n"
       ]
      }
     ],
     "prompt_number": 9
    },
    {
     "cell_type": "markdown",
     "metadata": {},
     "source": [
      "Moose introspection is very powerful. It uses the Meta Object Protocol the Moose is built with to expose all methods and attributes within the class, even the ones that are intended to be private.  \n",
      "\n",
      "####Basic use HackaMol::Atom Methods\n",
      "Alchemy: let's change mercury into gold"
     ]
    },
    {
     "cell_type": "code",
     "collapsed": false,
     "input": [
      "$atom->symbol('Au');\n",
      "$atom->dump;"
     ],
     "language": "python",
     "metadata": {},
     "outputs": [
      {
       "metadata": {},
       "output_type": "pyout",
       "prompt_number": 5,
       "text": [
        "\u001b[32m$VAR1 = bless( {\n",
        "                 'Z' => 80,\n",
        "                 'bond_count' => 0,\n",
        "                 't' => 0,\n",
        "                 'symbol' => 'Au'\n",
        "               }, 'HackaMol::Atom' );\n",
        "\n",
        "\u001b[0m"
       ]
      }
     ],
     "prompt_number": 5
    },
    {
     "cell_type": "markdown",
     "metadata": {},
     "source": [
      "HackaMol is very flexible.  The attributes can be reassigned, but this can lead to difficulties as observed above. The $atom has the symbol 'Au' and a Z of 80. Invoking either change Z or change symbol will clear out all atom attributes, returning them to the lazy defaults and set the is dirty attribute to 1 (where 1 is a true value in Perl). "
     ]
    },
    {
     "cell_type": "code",
     "collapsed": false,
     "input": [
      "$atom->change_Z(79);\n",
      "$atom->dump;"
     ],
     "language": "python",
     "metadata": {},
     "outputs": [
      {
       "metadata": {},
       "output_type": "pyout",
       "prompt_number": 6,
       "text": [
        "\u001b[33mcleaning atom attributes for in place change. setting atom->is_dirty at reply input line 1.\n",
        "\u001b[0m\u001b[32m$VAR1 = bless( {\n",
        "                 'is_dirty' => 1,\n",
        "                 't' => 0,\n",
        "                 'Z' => 79,\n",
        "                 'bond_count' => 0\n",
        "               }, 'HackaMol::Atom' );\n",
        "\n",
        "\u001b[0m"
       ]
      }
     ],
     "prompt_number": 6
    },
    {
     "cell_type": "markdown",
     "metadata": {},
     "source": [
      "The is dirty attribute allows other classes that contain groups of atoms to be able to respond to such changes. For example,"
     ]
    },
    {
     "cell_type": "code",
     "collapsed": false,
     "input": [
      "my @atoms = map{HackaMol::Atom->new(Z=>80)} 0 .. 99;\n",
      "$atoms[$_]->change_Z(79) foreach (10,11,12);\n",
      "my @dirty_atoms = grep {$_->is_dirty} @atoms;"
     ],
     "language": "python",
     "metadata": {},
     "outputs": [
      {
       "metadata": {},
       "output_type": "pyout",
       "prompt_number": 10,
       "text": [
        "\u001b[33mcleaning atom attributes for in place change. setting atom->is_dirty at reply input line 2.\n",
        "\u001b[0m\u001b[33mcleaning atom attributes for in place change. setting atom->is_dirty at reply input line 2.\n",
        "\u001b[0m\u001b[33mcleaning atom attributes for in place change. setting atom->is_dirty at reply input line 2.\n",
        "\u001b[0m\u001b[32mHackaMol::Atom=HASH(0x7fba326f7068)HackaMol::Atom=HASH(0x7fba326f7be8)HackaMol::Atom=HASH(0x7fba326f7cc0)\n",
        "\u001b[0m"
       ]
      }
     ],
     "prompt_number": 10
    },
    {
     "cell_type": "code",
     "collapsed": false,
     "input": [
      "print $_->dump foreach @dirty_atoms;"
     ],
     "language": "python",
     "metadata": {},
     "outputs": [
      {
       "metadata": {},
       "output_type": "pyout",
       "prompt_number": 12,
       "text": [
        "$VAR1 = bless( {\n",
        "                 'Z' => 79,\n",
        "                 'bond_count' => 0,\n",
        "                 't' => 0,\n",
        "                 'is_dirty' => 1\n",
        "               }, 'HackaMol::Atom' );\n",
        "$VAR1 = bless( {\n",
        "                 't' => 0,\n",
        "                 'Z' => 79,\n",
        "                 'bond_count' => 0,\n",
        "                 'is_dirty' => 1\n",
        "               }, 'HackaMol::Atom' );\n",
        "$VAR1 = bless( {\n",
        "                 'bond_count' => 0,\n",
        "                 'Z' => 79,\n",
        "                 't' => 0,\n",
        "                 'is_dirty' => 1\n",
        "               }, 'HackaMol::Atom' );\n",
        "\u001b[32m\n",
        "\u001b[0m"
       ]
      }
     ],
     "prompt_number": 12
    },
    {
     "cell_type": "code",
     "collapsed": false,
     "input": [],
     "language": "python",
     "metadata": {},
     "outputs": []
    }
   ],
   "metadata": {}
  }
 ]
}