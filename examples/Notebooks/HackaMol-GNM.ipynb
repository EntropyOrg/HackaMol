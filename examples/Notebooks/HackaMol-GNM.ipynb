{
 "metadata": {
  "language": "Perl",
  "name": "",
  "signature": "sha256:ffe358d53a8797e8648f3b74be466f2a65c1504f41277f0cfb810571c66e6f99"
 },
 "nbformat": 3,
 "nbformat_minor": 0,
 "worksheets": [
  {
   "cells": [
    {
     "cell_type": "markdown",
     "metadata": {},
     "source": [
      "##IPerl Notebook implementation of the Gaussian Network Model in Support of: \n",
      "###HackaMol: an object-oriented Modern Perl library for molecular hacking on multiple scales\n",
      "Demian Riccardi, Jerry M. Parks, Alex Johs, and Jeremy C. Smith\n",
      "\n",
      "\n",
      "####Description\n",
      "This notebook implements the [Gaussian Network Model (GNM) of Bahar, Atilgan, and Erman](http://www.sciencedirect.com/science/article/pii/S1359027897000242) using HackaMol and the Perl Data Language (PDL) and compares the calculated fluctuations to the crystallographic B-Factors. GNM simplification of the [Elastic Network Model introduced by Tirion](http://journals.aps.org/prl/abstract/10.1103/PhysRevLett.77.1905), which was already a drastic simplification of protein dynamics.  This notebook uses the iPerl kernel, written by Zaki Mughal, of the iPython notebook."
     ]
    },
    {
     "cell_type": "code",
     "collapsed": false,
     "input": [
      "use Modern::Perl;\n",
      "use HackaMol;"
     ],
     "language": "python",
     "metadata": {},
     "outputs": [],
     "prompt_number": 1
    },
    {
     "cell_type": "markdown",
     "metadata": {},
     "source": [
      "####1. Download molecule from Protein DataBank and read it into a HackaMol::Molecule object:"
     ]
    },
    {
     "cell_type": "code",
     "collapsed": false,
     "input": [
      "use LWP::Simple;\n",
      "my $pdb = \"2cba.pdb\"; #NMR structure with several models\n",
      "my $fpdb = getstore(\"http://pdb.org/pdb/files/$pdb\",\"$pdb\");\n",
      "\n",
      "my $mol = HackaMol->new\n",
      "                  ->read_file_mol($pdb); # object methods chain from left to right\n"
     ],
     "language": "python",
     "metadata": {},
     "outputs": [
      {
       "metadata": {},
       "output_type": "pyout",
       "prompt_number": 2,
       "text": [
        "HackaMol::Molecule=HASH(0x7f899f8d7308)\n"
       ]
      }
     ],
     "prompt_number": 2
    },
    {
     "cell_type": "markdown",
     "metadata": {},
     "source": [
      "####2. Coarse-grain the molecule\n",
      "GNM uses the C$_\\alpha$ atoms of the protein backbone. Let's pull out those with full occupancy and create a new molecular object:"
     ]
    },
    {
     "cell_type": "code",
     "collapsed": false,
     "input": [
      "my $mol_CA = HackaMol::Molecule->new(\n",
      "                                     atoms => [\n",
      "                                               grep{ $_->occ == 1.0 }\n",
      "                                               grep{ $_->name eq 'CA' } $mol->all_atoms\n",
      "                                     ]\n",
      ");"
     ],
     "language": "python",
     "metadata": {},
     "outputs": [
      {
       "metadata": {},
       "output_type": "pyout",
       "prompt_number": 3,
       "text": [
        "HackaMol::Molecule=HASH(0x7f899e1c0c20)\n"
       ]
      }
     ],
     "prompt_number": 3
    },
    {
     "cell_type": "markdown",
     "metadata": {},
     "source": [
      "####4. Next, calculate a Kirchoff matrix using a single parameter: the cutoff distance\n",
      "The Kirchoff matrix (K) (also referred to as the connectivity matrix) is simple to implement. It is a square matrix with each dimension being the number of atoms, i.e. K(1:N,1:N). The cutoff distance is the parameter that determines whether or not two atoms are connected.  If the cutoff distance is small, the matrix is sparse (most elements are zero). The elements of matrix are evaluated as follows:\n",
      "\n",
      "$ K = \\left\\{ \n",
      "\\begin{array}{l l}\n",
      "  -1                 &                                                  \\quad \\mbox{if $i\\ne j$ and $R_{ij} \\le R_{cut} $}\\\\\n",
      "                   0 &                                                  \\quad \\mbox{if $R_{ij} > R_{cut} $}\\\\ \n",
      " - \\displaystyle \\sum_{i,j\\ne i} K_{ij} & \\quad  \\mbox{if $i = j$}  \n",
      " \\end{array} \\right. $\n",
      "\n",
      "Below, we define the cutoff distance, square it (to avoid calculating the square root), and then loop over the atomic coordinates to construct the matrix.      "
     ]
    },
    {
     "cell_type": "code",
     "collapsed": false,
     "input": [
      "my $rcut  = 7.5;\n",
      "my $rsqr  = $rcut*$rcut;\n",
      "\n",
      "my $N     = $mol_CA->count_atoms;\n",
      "my @xyzs  = map{ $_->xyz } $mol_CA->all_atoms ;\n",
      "\n",
      "my @kirch;\n",
      "\n",
      "foreach my $i (0 .. $#xyzs){\n",
      "    my $xyz_i = $xyzs[$i];\n",
      "    foreach my $j ($i+1 .. $#xyzs){\n",
      "        my $dxyz2 = $xyzs[$j]->dist2($xyz_i);\n",
      "        if ($dxyz2 <= $rsqr){\n",
      "            $kirch[$i][$j]--;\n",
      "            $kirch[$j][$i]--;\n",
      "            $kirch[$i][$i]++;\n",
      "            $kirch[$j][$j]++;\n",
      "        }\n",
      "    }\n",
      "}\n"
     ],
     "language": "python",
     "metadata": {},
     "outputs": [
      {
       "metadata": {},
       "output_type": "pyout",
       "prompt_number": 4,
       "text": [
        "\n"
       ]
      }
     ],
     "prompt_number": 4
    },
    {
     "cell_type": "markdown",
     "metadata": {},
     "source": [
      "####5. Compute the pseudo-inverse of the Kirchoff matrix.\n",
      "Here, we use PDL and a PDL interface to Lapack (PDL::LinearAlgebra).  Since the  first eigenvalue of the Kirchoff matrix is zero, we calculate the pseudoinverse (using the mpinv function). "
     ]
    },
    {
     "cell_type": "code",
     "collapsed": false,
     "input": [
      "use PDL::Lite;\n",
      "use PDL::LinearAlgebra;\n",
      "\n",
      "my $kirch_pdl = pdl(@kirch);\n",
      "my $a  = mpinv($kirch_pdl);"
     ],
     "language": "python",
     "metadata": {},
     "outputs": [
      {
       "metadata": {},
       "output_type": "pyout",
       "prompt_number": 5,
       "text": [
        "TOO LONG TO PRINT\n"
       ]
      }
     ],
     "prompt_number": 5
    },
    {
     "cell_type": "markdown",
     "metadata": {},
     "source": [
      "####6. Analyze the results\n",
      "Compare the diagonal of the "
     ]
    },
    {
     "cell_type": "code",
     "collapsed": false,
     "input": [
      "my $bfact_calc = diag($a);\n",
      "my $bfact_exp  = pdl(map {$_->bfact} $mol_CA->all_atoms);\n",
      "$bfact_calc = $bfact_exp->avg*$bfact_calc/$bfact_calc->avg;\n",
      "\n",
      "\n",
      "printf(\"%10.3f %10.3f\\n\",$bfact_exp->at($_), $bfact_calc->at($_) ) foreach (0 .. $N-1);"
     ],
     "language": "python",
     "metadata": {},
     "outputs": []
    }
   ],
   "metadata": {}
  }
 ]
}