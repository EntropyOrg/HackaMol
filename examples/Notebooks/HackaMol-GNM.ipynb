{
 "metadata": {
  "language": "Perl",
  "name": "",
  "signature": "sha256:8befcd4f7ce03ebfbadad2b1713277a4c6494590f7e5e3713091f70335581429"
 },
 "nbformat": 3,
 "nbformat_minor": 0,
 "worksheets": [
  {
   "cells": [
    {
     "cell_type": "markdown",
     "metadata": {},
     "source": [
      "Here we'll implement a simple Gaussian Network Model using HackaMol and PDL to calculate the fluctuations of a biological molecule."
     ]
    },
    {
     "cell_type": "code",
     "collapsed": false,
     "input": [
      "use Modern::Perl;\n",
      "use HackaMol;\n",
      "use PDL::Lite;\n",
      "use PDL::NiceSlice;\n",
      "use Time::HiRes qw(time);"
     ],
     "language": "python",
     "metadata": {},
     "outputs": [],
     "prompt_number": 1
    },
    {
     "cell_type": "markdown",
     "metadata": {},
     "source": [
      "Read in the molecule from the pdb"
     ]
    },
    {
     "cell_type": "code",
     "collapsed": false,
     "input": [
      "use LWP::Simple;\n",
      "my $pdb = \"1L2Y.pdb\"; #NMR structure with several models\n",
      "my $fpdb = getstore(\"http://pdb.org/pdb/files/$pdb\",\"$pdb\");\n",
      "\n",
      "my $mol = HackaMol->new\n",
      "                  ->read_file_mol($pdb); # object methods chain from left to right\n"
     ],
     "language": "python",
     "metadata": {},
     "outputs": [
      {
       "metadata": {},
       "output_type": "pyout",
       "prompt_number": 2,
       "text": [
        "HackaMol::Molecule=HASH(0x7f9700802630)\n"
       ]
      }
     ],
     "prompt_number": 2
    },
    {
     "cell_type": "markdown",
     "metadata": {},
     "source": [
      "####Pull out a molecule of C-alpha atoms"
     ]
    },
    {
     "cell_type": "code",
     "collapsed": false,
     "input": [
      "my $mol_CA = HackaMol::Molecule->new(\n",
      "                                     atoms => [\n",
      "                                               grep{ $_->name eq 'CA' } $mol->all_atoms\n",
      "                                     ]\n",
      ");"
     ],
     "language": "python",
     "metadata": {},
     "outputs": [
      {
       "metadata": {},
       "output_type": "pyout",
       "prompt_number": 3,
       "text": [
        "HackaMol::Molecule=HASH(0x7f9700802888)\n"
       ]
      }
     ],
     "prompt_number": 3
    },
    {
     "cell_type": "markdown",
     "metadata": {},
     "source": [
      "### To implement GNM, we need to calculate a Kirchoff matrix and diagonalize it.\n",
      "####I. Kirchoff matrix\n",
      "  A. Use the coordinates to build the Kirchoff matrix."
     ]
    },
    {
     "cell_type": "code",
     "collapsed": false,
     "input": [
      "my $rcut  = 7.5;\n",
      "my $rsqr  = $rcut*$rcut;\n",
      "\n",
      "my $N     = $mol_CA->count_atoms;\n",
      "my @xyzs  = map{ $_->xyz } $mol_CA->all_atoms ;\n",
      "\n",
      "my @kirch;\n",
      "\n",
      "foreach my $i (0 .. $#xyzs){\n",
      "    my $xyz_i = $xyzs[$i];\n",
      "    foreach my $j ($i+1 .. $#xyzs){\n",
      "        my $dxyz2 = $xyzs[$j]->dist2($xyz_i);\n",
      "        if ($dxyz2 <= $rsqr){\n",
      "            $kirch[$i][$j]--;\n",
      "            $kirch[$j][$i]--;\n",
      "            $kirch[$i][$i]++;\n",
      "            $kirch[$j][$j]++;\n",
      "        }\n",
      "    }\n",
      "}\n",
      "\n",
      "my $kirch_pdl = pdl(@kirch);\n"
     ],
     "language": "python",
     "metadata": {},
     "outputs": [
      {
       "metadata": {},
       "output_type": "pyout",
       "prompt_number": 4,
       "text": [
        "\n",
        "[\n",
        " [ 4 -1 -1 -1 -1  0  0  0  0  0  0  0  0  0  0  0  0  0  0  0]\n",
        " [-1  6 -1 -1 -1 -1  0  0  0  0  0  0  0  0  0  0  0  0 -1  0]\n",
        " [-1 -1  8 -1 -1 -1 -1  0  0  0  0  0  0  0  0  0  0 -1 -1  0]\n",
        " [-1 -1 -1  7 -1 -1 -1 -1  0  0  0  0  0  0  0  0  0  0  0  0]\n",
        " [-1 -1 -1 -1  8 -1 -1 -1 -1  0  0  0  0  0  0  0  0  0  0  0]\n",
        " [ 0 -1 -1 -1 -1 11 -1 -1 -1 -1 -1  0  0  0  0  0  0 -1 -1  0]\n",
        " [ 0  0 -1 -1 -1 -1  8 -1 -1 -1 -1  0  0  0  0  0  0  0  0  0]\n",
        " [ 0  0  0 -1 -1 -1 -1  7 -1 -1 -1  0  0  0  0  0  0  0  0  0]\n",
        " [ 0  0  0  0 -1 -1 -1 -1  7 -1 -1  0  0 -1  0  0  0  0  0  0]\n",
        " [ 0  0  0  0  0 -1 -1 -1 -1  8 -1 -1 -1 -1  0  0  0  0  0  0]\n",
        " [ 0  0  0  0  0 -1 -1 -1 -1 -1 10 -1 -1 -1  0 -1  0 -1  0  0]\n",
        " [ 0  0  0  0  0  0  0  0  0 -1 -1  7 -1 -1 -1 -1 -1  0  0  0]\n",
        " [ 0  0  0  0  0  0  0  0  0 -1 -1 -1  5 -1 -1  0  0  0  0  0]\n",
        " [ 0  0  0  0  0  0  0  0 -1 -1 -1 -1 -1  7 -1 -1  0  0  0  0]\n",
        " [ 0  0  0  0  0  0  0  0  0  0  0 -1 -1 -1  5 -1 -1  0  0  0]\n",
        " [ 0  0  0  0  0  0  0  0  0  0 -1 -1  0 -1 -1  6 -1 -1  0  0]\n",
        " [ 0  0  0  0  0  0  0  0  0  0  0 -1  0  0 -1 -1  5 -1 -1  0]\n",
        " [ 0  0 -1  0  0 -1  0  0  0  0 -1  0  0  0  0 -1 -1  7 -1 -1]\n",
        " [ 0 -1 -1  0  0 -1  0  0  0  0  0  0  0  0  0  0 -1 -1  6 -1]\n",
        " [ 0  0  0  0  0  0  0  0  0  0  0  0  0  0  0  0  0 -1 -1  2]\n",
        "]\n",
        "\n"
       ]
      }
     ],
     "prompt_number": 4
    },
    {
     "cell_type": "markdown",
     "metadata": {},
     "source": [
      "Compute the pseudo-inverse"
     ]
    },
    {
     "cell_type": "code",
     "collapsed": false,
     "input": [
      "use PDL::LinearAlgebra;\n",
      "my $a  = mpinv($kirch_pdl);\n",
      "print diag($a);"
     ],
     "language": "python",
     "metadata": {},
     "outputs": [
      {
       "metadata": {},
       "output_type": "pyout",
       "prompt_number": 13,
       "text": [
        "[0.29364182 0.19548675 0.14326139 0.17006055 0.14781077 0.09580299 0.13545686 0.15428062 0.15089198 0.13452374 0.10496034 0.17405932   0.232801 0.16858019 0.24615299 0.19278332 0.22399617 0.15291722 0.18587141 0.54905809]1\n"
       ]
      }
     ],
     "prompt_number": 13
    },
    {
     "cell_type": "code",
     "collapsed": false,
     "input": [],
     "language": "python",
     "metadata": {},
     "outputs": []
    }
   ],
   "metadata": {}
  }
 ]
}