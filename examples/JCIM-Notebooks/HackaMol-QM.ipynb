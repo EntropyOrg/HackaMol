{
 "metadata": {
  "language": "Perl",
  "name": "",
  "signature": "sha256:2189df22aa5f62d851ce1b5d11c7e400d5e16583c3343895289f6e01f3389991"
 },
 "nbformat": 3,
 "nbformat_minor": 0,
 "worksheets": [
  {
   "cells": [
    {
     "cell_type": "markdown",
     "metadata": {},
     "source": [
      "##IPerl Notebook that uses HackaMol to interface Gaussian-09 in support of: \n",
      "###HackaMol: an object-oriented Modern Perl library for molecular hacking on multiple scales\n",
      "Demian Riccardi, Jerry M. Parks, Alex Johs, and Jeremy C. Smith\n",
      "\n",
      "####Description\n",
      "This uses the HackaMol::X::Calculator to implement an interface with Gaussian-09 ... This notebook uses the iPerl kernel, written by Zaki Mughal, of the iPython notebook."
     ]
    },
    {
     "cell_type": "code",
     "collapsed": false,
     "input": [],
     "language": "python",
     "metadata": {},
     "outputs": []
    }
   ],
   "metadata": {}
  }
 ]
}