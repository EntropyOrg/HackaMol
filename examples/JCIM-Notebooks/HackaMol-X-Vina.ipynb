{
 "metadata": {
  "language": "Perl",
  "name": "",
  "signature": "sha256:18227759281151d0a45e3fcead25945ca5f3fad5295ddca6cbb50e086207e7b1"
 },
 "nbformat": 3,
 "nbformat_minor": 0,
 "worksheets": [
  {
   "cells": [
    {
     "cell_type": "markdown",
     "metadata": {},
     "source": [
      "##IPerl Notebook for an example of the HackaMol::X::Vina class in support of: \n",
      "###HackaMol: an object-oriented Modern Perl library for molecular hacking on multiple scales\n",
      "Demian Riccardi, Jerry M. Parks, Alex Johs, and Jeremy C. Smith\n",
      "\n",
      "####Description\n",
      "This uses the HackaMol::X::Vina, which interfaces the Autodock-Vina program (link).  This notebook uses the iPerl kernel, written by Zaki Mughal, of the iPython notebook."
     ]
    },
    {
     "cell_type": "code",
     "collapsed": false,
     "input": [],
     "language": "python",
     "metadata": {},
     "outputs": []
    }
   ],
   "metadata": {}
  }
 ]
}