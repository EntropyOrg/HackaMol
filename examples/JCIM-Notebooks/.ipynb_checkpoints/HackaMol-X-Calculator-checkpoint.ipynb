{
 "metadata": {
  "name": "",
  "signature": "sha256:a1c2685bb3572f193e770d97ae65a0059c4ee201f95f7698ece455e8d5e4fe3d"
 },
 "nbformat": 3,
 "nbformat_minor": 0,
 "worksheets": []
}