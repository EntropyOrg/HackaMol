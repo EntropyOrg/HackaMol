{
 "metadata": {
  "language": "Perl",
  "name": "",
  "signature": "sha256:a5ce03552f43ad1412d0c1e591b31c3a3d9ec172a6b6580c200476102667c83e"
 },
 "nbformat": 3,
 "nbformat_minor": 0,
 "worksheets": [
  {
   "cells": [
    {
     "cell_type": "markdown",
     "metadata": {},
     "source": [
      "##IPerl Notebook implementation of the Gaussian Network Model in Support of: \n",
      "###HackaMol: an object-oriented Modern Perl library for molecular hacking on multiple scales\n",
      "Demian Riccardi, Jerry M. Parks, Alex Johs, and Jeremy C. Smith\n",
      "\n",
      "\n",
      "####Description\n",
      "This notebook explores how to define and use groups of atoms. The HackaMol::AtomGroupRole provides many attributes and methods that are shared by the HackaMol::AtomGroup, HackaMol::Bond, HackaMol::Angle, and HackaMol::Dihedral.  The HackaMol::Molecule class, which is discussed in another notebook, is a subclass of the HackaMol::AtomGroup class. This notebook uses the iPerl kernel, written by Zaki Mughal, of the iPython notebook."
     ]
    },
    {
     "cell_type": "code",
     "collapsed": false,
     "input": [],
     "language": "python",
     "metadata": {},
     "outputs": []
    }
   ],
   "metadata": {}
  }
 ]
}